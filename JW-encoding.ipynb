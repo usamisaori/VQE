{
 "cells": [
  {
   "cell_type": "code",
   "execution_count": 1,
   "id": "5b509628",
   "metadata": {},
   "outputs": [],
   "source": [
    "# 验证JW-coding的过程\n",
    "# https://learn.microsoft.com/en-us/azure/quantum/user-guide/libraries/chemistry/concepts/jordan-wigner"
   ]
  },
  {
   "cell_type": "code",
   "execution_count": 1,
   "id": "8ae70c91",
   "metadata": {},
   "outputs": [],
   "source": [
    "import matplotlib.pyplot as plt\n",
    "import pennylane as qml\n",
    "from pennylane import qchem\n",
    "\n",
    "import numpy as np\n",
    "import qiskit\n",
    "from qiskit import QuantumCircuit"
   ]
  },
  {
   "cell_type": "code",
   "execution_count": 32,
   "id": "3d9337c5",
   "metadata": {},
   "outputs": [],
   "source": [
    "from functools import reduce\n",
    "\n",
    "# eg. Dag(|a>) = <a|\n",
    "Dag = lambda matrix: matrix.conj().T\n",
    "# eg. Kron(I, X, Y) = I ⊗ X ⊗ Y，计算张量用\n",
    "Kron = lambda *matrices: reduce(np.kron, matrices)\n",
    "# eg. Multi(I, X, Y) = I @ X @ Y，计算矩阵连乘\n",
    "Multi = lambda *matrices: reduce(np.matmul, matrices)"
   ]
  },
  {
   "cell_type": "code",
   "execution_count": 3,
   "id": "c9fa0565",
   "metadata": {},
   "outputs": [],
   "source": [
    "symbols = [\"H\", \"H\"]\n",
    "coordinates = np.array([0.0, 0.0, -0.375, 0.0, 0.0, 0.375])"
   ]
  },
  {
   "cell_type": "code",
   "execution_count": 4,
   "id": "8238ce6c",
   "metadata": {},
   "outputs": [],
   "source": [
    "I = np.eye(2)\n",
    "\n",
    "# pauli matrixes\n",
    "X = np.matrix([\n",
    "    [0, 1], [1, 0]\n",
    "])\n",
    "Y = np.matrix([\n",
    "    [0, -1j], [1j, 0]\n",
    "])\n",
    "Z = np.matrix([\n",
    "    [1, 0], [0, -1]\n",
    "])"
   ]
  },
  {
   "cell_type": "code",
   "execution_count": 7,
   "id": "5a94f3e3",
   "metadata": {},
   "outputs": [],
   "source": [
    "# 参考的JW编码后的哈密顿量\n",
    "Hami_JW = \\\n",
    "    -0.81530 * Kron(I, I, I, I) +\\\n",
    "    0.16988  * Kron(Z, I, I, I) +\\\n",
    "    0.16988  * Kron(I, Z, I, I) +\\\n",
    "    0.16821  * Kron(Z, Z, I, I) +\\\n",
    "    0.04544  * Kron(Y, X, X, Y) +\\\n",
    "    -0.04544 * Kron(Y, Y, X, X) +\\\n",
    "    -0.04544 * Kron(X, X, Y, Y) +\\\n",
    "    0.04544  * Kron(X, Y, Y, X) +\\\n",
    "    -0.21886 * Kron(I, I, Z, I) +\\\n",
    "    0.12005  * Kron(Z, I, Z, I) +\\\n",
    "    -0.21886 * Kron(I, I, I, Z) +\\\n",
    "    0.16549  * Kron(Z, I, I, Z) +\\\n",
    "    0.16549  * Kron(I, Z, Z, I) +\\\n",
    "    0.12005  * Kron(I, Z, I, Z) +\\\n",
    "    0.17395  * Kron(I, I, Z, Z)"
   ]
  },
  {
   "cell_type": "code",
   "execution_count": 8,
   "id": "fece50fd",
   "metadata": {},
   "outputs": [],
   "source": [
    "def a(i, n):\n",
    "    arr = []\n",
    "    for idx in range(n):\n",
    "        if idx < i:\n",
    "            arr.append(Z)\n",
    "        elif idx == i:\n",
    "            arr.append((X + 1j * Y) / 2)\n",
    "        else:\n",
    "            arr.append(I)\n",
    "    \n",
    "    return Kron(*arr)"
   ]
  },
  {
   "cell_type": "code",
   "execution_count": 11,
   "id": "93fd36b9",
   "metadata": {},
   "outputs": [],
   "source": [
    "def adg(i, n):\n",
    "    arr = []\n",
    "    for idx in range(n):\n",
    "        if idx < i:\n",
    "            arr.append(Z)\n",
    "        elif idx == i:\n",
    "            arr.append((X - 1j * Y) / 2)\n",
    "        else:\n",
    "            arr.append(I)\n",
    "    \n",
    "    return Kron(*arr)"
   ]
  },
  {
   "cell_type": "code",
   "execution_count": 75,
   "id": "dced6ffe",
   "metadata": {},
   "outputs": [],
   "source": [
    "sq_form_arr = [\n",
    "    { 'coef': -1.24728, 'index': [0, 0] },\n",
    "    { 'coef': -1.24728, 'index': [1, 1] },\n",
    "    { 'coef': -0.48127, 'index': [2, 2] },\n",
    "    { 'coef': -0.48127, 'index': [3, 3] },\n",
    "    \n",
    "    { 'coef': -0.67284, 'index': [1, 0, 1, 0] },\n",
    "    { 'coef': -0.18177, 'index': [1, 0, 3, 2] },\n",
    "    { 'coef': -0.48020, 'index': [2, 0, 2, 0] },\n",
    "    { 'coef': -0.66197, 'index': [2, 1, 2, 1] },\n",
    "    { 'coef': 0.18177, 'index': [2, 1, 3, 0] },\n",
    "    { 'coef': 0.18177, 'index': [3, 0, 2, 1] },\n",
    "    { 'coef':-0.66197, 'index': [3, 0, 3, 0] },\n",
    "    { 'coef': -0.18177, 'index': [3, 2, 1, 0] },\n",
    "    { 'coef': -0.69581, 'index': [3, 2, 3, 2] },\n",
    "    { 'coef': -0.48020, 'index': [3, 1, 3, 1] },\n",
    "]"
   ]
  },
  {
   "cell_type": "code",
   "execution_count": 79,
   "id": "a3840fab",
   "metadata": {},
   "outputs": [],
   "source": [
    "def JW_encode(sq_form_arr, n_qubits):\n",
    "    H = (np.eye(2 ** n_qubits) - np.eye(2 ** n_qubits)).astype('complex128')\n",
    "    \n",
    "    for sq_form_unit in sq_form_arr:\n",
    "        arr = []\n",
    "        index = sq_form_unit['index']\n",
    "        \n",
    "        for i in range(len(index) // 2):\n",
    "            arr.append(adg(index[i], n_qubits))\n",
    "        for i in range(len(index) // 2, len(index)):\n",
    "            arr.append(a(index[i], n_qubits))\n",
    "        \n",
    "        H += sq_form_unit['coef'] * Multi(*arr)\n",
    "        \n",
    "    return H"
   ]
  },
  {
   "cell_type": "code",
   "execution_count": 80,
   "id": "c3ff26fe",
   "metadata": {},
   "outputs": [],
   "source": [
    "Hami = JW_encode(sq_form_arr, 4)"
   ]
  },
  {
   "cell_type": "code",
   "execution_count": 81,
   "id": "84095bd6",
   "metadata": {},
   "outputs": [
    {
     "data": {
      "text/plain": [
       "True"
      ]
     },
     "execution_count": 81,
     "metadata": {},
     "output_type": "execute_result"
    }
   ],
   "source": [
    "np.allclose(Hami, Hami_JW, atol=1e-4)"
   ]
  },
  {
   "cell_type": "code",
   "execution_count": null,
   "id": "541f449c",
   "metadata": {},
   "outputs": [],
   "source": []
  }
 ],
 "metadata": {
  "kernelspec": {
   "display_name": "Python 3 (ipykernel)",
   "language": "python",
   "name": "python3"
  },
  "language_info": {
   "codemirror_mode": {
    "name": "ipython",
    "version": 3
   },
   "file_extension": ".py",
   "mimetype": "text/x-python",
   "name": "python",
   "nbconvert_exporter": "python",
   "pygments_lexer": "ipython3",
   "version": "3.8.16"
  }
 },
 "nbformat": 4,
 "nbformat_minor": 5
}
