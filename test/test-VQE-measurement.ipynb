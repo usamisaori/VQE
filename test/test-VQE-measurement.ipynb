{
 "cells": [
  {
   "cell_type": "code",
   "execution_count": 33,
   "id": "b40a241b",
   "metadata": {},
   "outputs": [],
   "source": [
    "# 验证测量哈密顿量结果等于测量每个子哈密顿量结果的和"
   ]
  },
  {
   "cell_type": "code",
   "execution_count": 1,
   "id": "a0b68733",
   "metadata": {},
   "outputs": [],
   "source": [
    "import matplotlib.pyplot as plt\n",
    "import pennylane as qml\n",
    "from pennylane import qchem\n",
    "\n",
    "import numpy as np\n",
    "import qiskit\n",
    "from qiskit import QuantumCircuit, execute, Aer"
   ]
  },
  {
   "cell_type": "code",
   "execution_count": 2,
   "id": "669c0b79",
   "metadata": {},
   "outputs": [],
   "source": [
    "from qiskit.quantum_info import DensityMatrix, Statevector\n",
    "\n",
    "def getDensityMatrix(circuit):\n",
    "    return DensityMatrix(circuit).data\n",
    "\n",
    "def getStatevector(circuit):\n",
    "    \"\"\"\n",
    "        从qiskit的QuantumCircuit实例中获取最终的状态向量\n",
    "        \n",
    "    \"\"\"\n",
    "    return Statevector(circuit).data"
   ]
  },
  {
   "cell_type": "code",
   "execution_count": 3,
   "id": "a5e8873c",
   "metadata": {},
   "outputs": [],
   "source": [
    "from functools import reduce\n",
    "\n",
    "# eg. Dag(|a>) = <a|\n",
    "Dag = lambda matrix: matrix.conj().T\n",
    "# eg. Kron(I, X, Y) = I ⊗ X ⊗ Y，计算张量用\n",
    "Kron = lambda *matrices: reduce(np.kron, matrices)"
   ]
  },
  {
   "cell_type": "markdown",
   "id": "dfae8027",
   "metadata": {},
   "source": [
    "## 1. Building the electronic Hamiltonian"
   ]
  },
  {
   "cell_type": "code",
   "execution_count": 4,
   "id": "6bc05907",
   "metadata": {},
   "outputs": [],
   "source": [
    "# https://pennylane.ai/qml/demos/tutorial_vqe.html"
   ]
  },
  {
   "cell_type": "code",
   "execution_count": 5,
   "id": "e21a4ec3",
   "metadata": {},
   "outputs": [],
   "source": [
    "symbols = [\"H\", \"H\"]\n",
    "coordinates = np.array([0.0, 0.0, -0.6614, 0.0, 0.0, 0.6614])"
   ]
  },
  {
   "cell_type": "markdown",
   "id": "74bf6394",
   "metadata": {},
   "source": [
    "### 1.1 using qml"
   ]
  },
  {
   "cell_type": "code",
   "execution_count": 6,
   "id": "e37b41d6",
   "metadata": {},
   "outputs": [
    {
     "name": "stdout",
     "output_type": "stream",
     "text": [
      "Number of qubits =  4\n",
      "The Hamiltonian is    (-0.24274501260941383) [Z2]\n",
      "+ (-0.24274501260941383) [Z3]\n",
      "+ (-0.042072551947440084) [I0]\n",
      "+ (0.1777135822909176) [Z0]\n",
      "+ (0.1777135822909176) [Z1]\n",
      "+ (0.12293330449299354) [Z0 Z2]\n",
      "+ (0.12293330449299354) [Z1 Z3]\n",
      "+ (0.1676833885560135) [Z0 Z3]\n",
      "+ (0.1676833885560135) [Z1 Z2]\n",
      "+ (0.17059759276836806) [Z0 Z1]\n",
      "+ (0.17627661394181787) [Z2 Z3]\n",
      "+ (-0.04475008406301996) [Y0 Y1 X2 X3]\n",
      "+ (-0.04475008406301996) [X0 X1 Y2 Y3]\n",
      "+ (0.04475008406301996) [Y0 X1 X2 Y3]\n",
      "+ (0.04475008406301996) [X0 Y1 Y2 X3]\n"
     ]
    }
   ],
   "source": [
    "# 基于JW变换构建的H2哈密顿量\n",
    "H, qubits = qml.qchem.molecular_hamiltonian(symbols, coordinates)\n",
    "print(\"Number of qubits = \", qubits)\n",
    "print(\"The Hamiltonian is \", H)"
   ]
  },
  {
   "cell_type": "code",
   "execution_count": 7,
   "id": "3eb01b40",
   "metadata": {},
   "outputs": [
    {
     "data": {
      "text/plain": [
       "(tensor([-0.04207255,  0.17771358,  0.17771358,  0.17059759,  0.04475008,\n",
       "         -0.04475008, -0.04475008,  0.04475008, -0.24274501,  0.1229333 ,\n",
       "         -0.24274501,  0.16768339,  0.16768339,  0.1229333 ,  0.17627661], requires_grad=False),\n",
       " [Identity(wires=[0]),\n",
       "  PauliZ(wires=[0]),\n",
       "  PauliZ(wires=[1]),\n",
       "  PauliZ(wires=[0]) @ PauliZ(wires=[1]),\n",
       "  PauliY(wires=[0]) @ PauliX(wires=[1]) @ PauliX(wires=[2]) @ PauliY(wires=[3]),\n",
       "  PauliY(wires=[0]) @ PauliY(wires=[1]) @ PauliX(wires=[2]) @ PauliX(wires=[3]),\n",
       "  PauliX(wires=[0]) @ PauliX(wires=[1]) @ PauliY(wires=[2]) @ PauliY(wires=[3]),\n",
       "  PauliX(wires=[0]) @ PauliY(wires=[1]) @ PauliY(wires=[2]) @ PauliX(wires=[3]),\n",
       "  PauliZ(wires=[2]),\n",
       "  PauliZ(wires=[0]) @ PauliZ(wires=[2]),\n",
       "  PauliZ(wires=[3]),\n",
       "  PauliZ(wires=[0]) @ PauliZ(wires=[3]),\n",
       "  PauliZ(wires=[1]) @ PauliZ(wires=[2]),\n",
       "  PauliZ(wires=[1]) @ PauliZ(wires=[3]),\n",
       "  PauliZ(wires=[2]) @ PauliZ(wires=[3])])"
      ]
     },
     "execution_count": 7,
     "metadata": {},
     "output_type": "execute_result"
    }
   ],
   "source": [
    "# Hamiltonian.terms() 获取该哈密顿量中的每个组成成分\n",
    "# \n",
    "# 例如第5项：PauliY(wires=[0]) @ PauliX(wires=[1]) @ PauliX(wires=[2]) @ PauliY(wires=[3])\n",
    "# 对应系数是 0.04475008\n",
    "# 对应一个哈密顿量的分量（组成成分）为：0.04475008 * Y ⊗ X ⊗ X ⊗ Y，以此类推\n",
    "# \n",
    "H.terms()"
   ]
  },
  {
   "cell_type": "markdown",
   "id": "5b0eef3d",
   "metadata": {},
   "source": [
    "### 1.2 Manual build"
   ]
  },
  {
   "cell_type": "code",
   "execution_count": 8,
   "id": "92aa35d1",
   "metadata": {},
   "outputs": [],
   "source": [
    "I = np.eye(2)\n",
    "\n",
    "# pauli matrixes\n",
    "X = np.matrix([\n",
    "    [0, 1], [1, 0]\n",
    "])\n",
    "Y = np.matrix([\n",
    "    [0, -1j], [1j, 0]\n",
    "])\n",
    "Z = np.matrix([\n",
    "    [1, 0], [0, -1]\n",
    "])"
   ]
  },
  {
   "cell_type": "code",
   "execution_count": 9,
   "id": "51e13085",
   "metadata": {},
   "outputs": [],
   "source": [
    "# 基于上述分解结果，手动构建初始的Hamilton量\n",
    "# Kron(Y, X, X, Y) 即计算 Y ⊗ X ⊗ X ⊗ Y\n",
    "Hami = \\\n",
    "    -0.04207255 * Kron(I, I, I, I) +\\\n",
    "    0.17771358  * Kron(Z, I, I, I) +\\\n",
    "    0.17771358  * Kron(I, Z, I, I) +\\\n",
    "    0.17059759  * Kron(Z, Z, I, I) +\\\n",
    "    0.04475008  * Kron(Y, X, X, Y) +\\\n",
    "    -0.04475008 * Kron(Y, Y, X, X) +\\\n",
    "    -0.04475008 * Kron(X, X, Y, Y) +\\\n",
    "    0.04475008  * Kron(X, Y, Y, X) +\\\n",
    "    -0.24274501 * Kron(I, I, Z, I) +\\\n",
    "    0.1229333   * Kron(Z, I, Z, I) +\\\n",
    "    -0.24274501 * Kron(I, I, I, Z) +\\\n",
    "    0.16768339  * Kron(Z, I, I, Z) +\\\n",
    "    0.16768339  * Kron(I, Z, Z, I) +\\\n",
    "    0.1229333   * Kron(I, Z, I, Z) +\\\n",
    "    0.17627661  * Kron(I, I, Z, Z)"
   ]
  },
  {
   "cell_type": "code",
   "execution_count": 10,
   "id": "35897441",
   "metadata": {},
   "outputs": [],
   "source": [
    "Hami_arr = [\n",
    "    [-0.04207255 , Kron(I, I, I, I) ],\n",
    "    [0.17771358  , Kron(Z, I, I, I) ],\n",
    "    [0.17771358  , Kron(I, Z, I, I) ],\n",
    "    [0.17059759  , Kron(Z, Z, I, I) ],\n",
    "    [0.04475008  , Kron(Y, X, X, Y) ],\n",
    "    [-0.04475008 , Kron(Y, Y, X, X) ],\n",
    "    [-0.04475008 , Kron(X, X, Y, Y) ],\n",
    "    [0.04475008  , Kron(X, Y, Y, X) ],\n",
    "    [-0.24274501 , Kron(I, I, Z, I) ],\n",
    "    [0.1229333   , Kron(Z, I, Z, I) ],\n",
    "    [-0.24274501 , Kron(I, I, I, Z) ],\n",
    "    [0.16768339  , Kron(Z, I, I, Z) ],\n",
    "    [0.16768339  , Kron(I, Z, Z, I) ],\n",
    "    [0.1229333   , Kron(I, Z, I, Z) ],\n",
    "    [0.17627661  , Kron(I, I, Z, Z) ]\n",
    "]"
   ]
  },
  {
   "cell_type": "markdown",
   "id": "a62097cb",
   "metadata": {},
   "source": [
    "## 2. Initial state"
   ]
  },
  {
   "cell_type": "code",
   "execution_count": 20,
   "id": "c16a9102",
   "metadata": {},
   "outputs": [],
   "source": [
    "def reset_endianness_circuit(qubits):\n",
    "    \"\"\"\n",
    "        重置qiskit端序\n",
    "        \n",
    "        简单说因为pennylane得到的分解中例如 PauliZ(wires=[0]) @ PauliZ(wires=[1]\n",
    "        其中wires=[0]并不对应qiskit里的qubit[0]（而是qubit[3]，因为端序的问题）\n",
    "        所以用这个线路把qiskit的端序重置下\n",
    "        \n",
    "        eg.下图的resetCircuit线路，处理前，从下到上才对应wires=[0]，wires=[1]，...\n",
    "        用SWAP把比特交换下就变成正常的顺序（从上到下对应wires=[0]，wires=[1]，...）\n",
    "        \n",
    "    \"\"\"\n",
    "    circuit = QuantumCircuit(qubits)\n",
    "    for i in range(qubits // 2):\n",
    "        circuit.swap(i, qubits - i - 1)\n",
    "    circuit.barrier()\n",
    "    \n",
    "    return circuit"
   ]
  },
  {
   "cell_type": "code",
   "execution_count": 12,
   "id": "4a2d6b41",
   "metadata": {},
   "outputs": [],
   "source": [
    "def get_initial_circuit(electrons, qubits):\n",
    "    \"\"\"\n",
    "        对应 hf = qml.qchem.hf_state(electrons, qubits)\n",
    "        即获取初始的电子轨道占据情况（hf_state）\n",
    "        \n",
    "        eg. electrons=2(电子数)，qubtis=4(比特数，即总轨道数) => [1, 1, 0, 0]（两个电子占据低位轨道）\n",
    "    \"\"\"\n",
    "    circuit = QuantumCircuit(qubits)\n",
    "    [ circuit.x(i) for i in range(electrons) ]\n",
    "    circuit.barrier()\n",
    "    \n",
    "    return circuit"
   ]
  },
  {
   "cell_type": "markdown",
   "id": "210838c7",
   "metadata": {},
   "source": [
    "## 3. Ansatz"
   ]
  },
  {
   "cell_type": "markdown",
   "id": "3fbfa894",
   "metadata": {},
   "source": [
    "### - single excitation"
   ]
  },
  {
   "cell_type": "code",
   "execution_count": 14,
   "id": "0f054268",
   "metadata": {},
   "outputs": [],
   "source": [
    "def get_single_excitation_circuit(param, qubits):\n",
    "    \"\"\"\n",
    "        参考上述分解结果，构建通用的单激发Givens Rotation线路\n",
    "        \n",
    "        -> https://arxiv.org/pdf/2106.13839.pdf\n",
    "        \n",
    "    \"\"\"\n",
    "    circuit = QuantumCircuit(4)\n",
    "    \n",
    "    circuit.cx(*qubits)\n",
    "    circuit.cry(param, *list(reversed(qubits)))\n",
    "    circuit.cx(*qubits)\n",
    "    circuit.barrier()\n",
    "    \n",
    "    return circuit"
   ]
  },
  {
   "cell_type": "markdown",
   "id": "668b42d0",
   "metadata": {},
   "source": [
    "### - double excitation"
   ]
  },
  {
   "cell_type": "code",
   "execution_count": 15,
   "id": "2f1c3b40",
   "metadata": {},
   "outputs": [],
   "source": [
    "def get_double_excitation_circuit(param, qubits):\n",
    "    \"\"\"\n",
    "        参考上述分解结果，构建通用的双激发Givens Rotation线路\n",
    "        \n",
    "        -> https://arxiv.org/pdf/2106.13839.pdf\n",
    "        \n",
    "    \"\"\"\n",
    "    circuit = QuantumCircuit(4)\n",
    "    \n",
    "    circuit.cx(qubits[2], qubits[3])\n",
    "    circuit.cx(qubits[0], qubits[2])\n",
    "    circuit.h(qubits[3])\n",
    "    circuit.h(qubits[0])\n",
    "    circuit.cx(qubits[2], qubits[3])\n",
    "    circuit.cx(qubits[0], qubits[1])\n",
    "    circuit.ry(param/8, qubits[1])\n",
    "    circuit.ry(-param/8, qubits[0])\n",
    "    circuit.cx(qubits[0], qubits[3])\n",
    "    circuit.h(qubits[3])\n",
    "    circuit.cx(qubits[3], qubits[1])\n",
    "    circuit.ry(param/8, qubits[1])\n",
    "    circuit.ry(-param/8, qubits[0])\n",
    "    circuit.cx(qubits[2], qubits[1])\n",
    "    circuit.cx(qubits[2], qubits[0])\n",
    "    circuit.ry(-param/8, qubits[1])\n",
    "    circuit.ry(param/8, qubits[0])\n",
    "    circuit.cx(qubits[3], qubits[1])\n",
    "    circuit.h(qubits[3])\n",
    "    circuit.cx(qubits[0], qubits[3])\n",
    "    circuit.ry(-param/8, qubits[1])\n",
    "    circuit.ry(param/8, qubits[0])\n",
    "    circuit.cx(qubits[0], qubits[1])\n",
    "    circuit.cx(qubits[2], qubits[0])\n",
    "    circuit.h(qubits[0])\n",
    "    circuit.h(qubits[3])\n",
    "    circuit.cx(qubits[0], qubits[2])\n",
    "    circuit.cx(qubits[2], qubits[3])\n",
    "    circuit.barrier()\n",
    "    \n",
    "    return circuit"
   ]
  },
  {
   "cell_type": "markdown",
   "id": "cd82dac1",
   "metadata": {},
   "source": [
    "### - full Givens rotation circuit"
   ]
  },
  {
   "cell_type": "code",
   "execution_count": 16,
   "id": "6c7ad0c6",
   "metadata": {},
   "outputs": [],
   "source": [
    "def get_givens_circuit(params):\n",
    "    \"\"\"\n",
    "        组装完整的基于Givens Rotation的拟设线路，包含所有的单激发与双激发\n",
    "        \n",
    "        注：https://pennylane.ai/qml/demos/tutorial_vqe.html 的例子求解H2分子时候，\n",
    "        基于某种化学假设，只考虑了双激发（不清楚具体理由），这边实现的是同时考虑所有单激发与双激发\n",
    "        结果也可以正常求得\n",
    "        \n",
    "        单激发与双激发的类型这里暂时写死，有待未来完善\n",
    "        \n",
    "    \"\"\"\n",
    "    # 1100 -> 0110 1001 0011\n",
    "    singles = [[0, 2], [1, 3]]\n",
    "    doubles = [[0, 1, 2, 3]]\n",
    "    \n",
    "    circuit = QuantumCircuit(4)\n",
    "    \n",
    "    idx = 0\n",
    "    \n",
    "    for single in singles:\n",
    "        circuit = circuit.compose(get_single_excitation_circuit(params[idx], single))\n",
    "        idx += 1\n",
    "        \n",
    "    for double in doubles:\n",
    "        circuit = circuit.compose(get_double_excitation_circuit(params[idx], double))\n",
    "        idx += 1\n",
    "        \n",
    "    return circuit"
   ]
  },
  {
   "cell_type": "markdown",
   "id": "cbf15f42",
   "metadata": {},
   "source": [
    "## 4. VQE full circuits"
   ]
  },
  {
   "cell_type": "code",
   "execution_count": 21,
   "id": "bb67294c",
   "metadata": {},
   "outputs": [],
   "source": [
    "resetCircuit = reset_endianness_circuit(4)"
   ]
  },
  {
   "cell_type": "code",
   "execution_count": 27,
   "id": "69b3a5c3",
   "metadata": {},
   "outputs": [],
   "source": [
    "initCircuit = get_initial_circuit(2, 4)"
   ]
  },
  {
   "cell_type": "code",
   "execution_count": 28,
   "id": "42aa9730",
   "metadata": {},
   "outputs": [],
   "source": [
    "def get_full_circuit(ansatz, params):\n",
    "    \"\"\"\n",
    "        搭建完整线路\n",
    "        \n",
    "        :param ansatz: 构建拟设线路的函数\n",
    "        :param params: 拟设函数的参数，即ansatz(params)返回拟设线路\n",
    "        \n",
    "        1. resetCircuit 在整个线路前后用来调整端序\n",
    "        2. initCircuit 对应初始 hf_state，eg. [1, 1, 0, 0]\n",
    "        3. ansatz(params) 对应拟设（带参数）主体\n",
    "        \n",
    "    \"\"\"\n",
    "    return resetCircuit.compose(\n",
    "        initCircuit.compose(\n",
    "            ansatz(params).compose(resetCircuit)\n",
    "        )\n",
    "    )"
   ]
  },
  {
   "cell_type": "code",
   "execution_count": 29,
   "id": "d4a44558",
   "metadata": {},
   "outputs": [],
   "source": [
    "def expval(Hami, circuit):\n",
    "    \"\"\"\n",
    "        基于哈密顿量与拟设计算期望值\n",
    "        \n",
    "        1. 初始态是hf_state，eg. [1, 1, 0, 0] 记为 |φ>,\n",
    "        2. 通过拟设（例如一组Givens Rotation），态演化为 U(θ)|φ>, U(θ)对应某个拟设，记U(θ)|φ> = |Ψ(θ)>\n",
    "        3. 计算和哈密顿量间的期望：<Ψ(θ)| H |Ψ(θ)>\n",
    "        \n",
    "    \"\"\"\n",
    "    state = getStatevector(circuit) # 获取线路终态\n",
    "    size = len(state)\n",
    "    \n",
    "    right = state.reshape(size, 1)\n",
    "    left = Dag(right)\n",
    "    \n",
    "    # 计算 <Ψ(θ)| H |Ψ(θ)>\n",
    "    return (left @ Hami @ right)[0, 0].real"
   ]
  },
  {
   "cell_type": "code",
   "execution_count": 30,
   "id": "8dd0ffbc",
   "metadata": {
    "scrolled": false
   },
   "outputs": [
    {
     "data": {
      "image/png": "[encoded data removed]",
      "text/plain": [
       "<Figure size 2210.55x785.944 with 1 Axes>"
      ]
     },
     "execution_count": 30,
     "metadata": {},
     "output_type": "execute_result"
    }
   ],
   "source": [
    "# 完整VQE（基于Givens Rotation）线路\n",
    "circuit = get_full_circuit(get_givens_circuit, [1.37834905e-04,  -3.38682040e-04,  2.08187026e-01])\n",
    "circuit.draw(output='mpl')"
   ]
  },
  {
   "cell_type": "code",
   "execution_count": 31,
   "id": "9ea00832",
   "metadata": {},
   "outputs": [
    {
     "name": "stdout",
     "output_type": "stream",
     "text": [
      "expval result:  -1.1361880888446667\n"
     ]
    }
   ],
   "source": [
    "print('expval result: ', expval(Hami, circuit))"
   ]
  },
  {
   "cell_type": "code",
   "execution_count": 32,
   "id": "b0ac46f3",
   "metadata": {},
   "outputs": [
    {
     "data": {
      "text/plain": [
       "-1.1361880888446665"
      ]
     },
     "execution_count": 32,
     "metadata": {},
     "output_type": "execute_result"
    }
   ],
   "source": [
    "exp = 0.0\n",
    "for [ coef, sub_Hami ] in Hami_arr:\n",
    "    exp += coef * expval(sub_Hami, circuit)\n",
    "exp"
   ]
  },
  {
   "cell_type": "code",
   "execution_count": null,
   "id": "4a5aa904",
   "metadata": {},
   "outputs": [],
   "source": []
  }
 ],
 "metadata": {
  "kernelspec": {
   "display_name": "Python 3 (ipykernel)",
   "language": "python",
   "name": "python3"
  },
  "language_info": {
   "codemirror_mode": {
    "name": "ipython",
    "version": 3
   },
   "file_extension": ".py",
   "mimetype": "text/x-python",
   "name": "python",
   "nbconvert_exporter": "python",
   "pygments_lexer": "ipython3",
   "version": "3.9.13"
  }
 },
 "nbformat": 4,
 "nbformat_minor": 5
}
